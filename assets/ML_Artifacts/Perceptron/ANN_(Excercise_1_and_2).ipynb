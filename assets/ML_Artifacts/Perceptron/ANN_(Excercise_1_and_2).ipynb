{
  "cells": [
    {
      "cell_type": "markdown",
      "metadata": {
        "id": "view-in-github",
        "colab_type": "text"
      },
      "source": [
        "<a href=\"https://colab.research.google.com/github/DaisyIpatzi/daisyipatzi.github.io/blob/main/assets/ML_Artifacts/Perceptron/ANN_(Excercise_1_and_2).ipynb\" target=\"_parent\"><img src=\"https://colab.research.google.com/assets/colab-badge.svg\" alt=\"Open In Colab\"/></a>"
      ]
    },
    {
      "cell_type": "markdown",
      "metadata": {
        "id": "wG8KVoBHz02d"
      },
      "source": [
        "# **Simple Perceptron Example**\n",
        "*Author: Dr Mike Lakoju, CardiffMet*"
      ]
    },
    {
      "cell_type": "markdown",
      "metadata": {
        "id": "6evHgbPBz02f"
      },
      "source": [
        "We are re-implementing the last code. With Neural networks, most implementation uses large datasets, and it is important to write our code in a more optimized manner. We will be using Numpy Library to achieve this."
      ]
    },
    {
      "cell_type": "markdown",
      "metadata": {
        "id": "A7weITX6z02g"
      },
      "source": [
        "# Import Library\n"
      ]
    },
    {
      "cell_type": "code",
      "execution_count": 1,
      "metadata": {
        "id": "hzAU57qaz02g"
      },
      "outputs": [],
      "source": [
        "import numpy as np"
      ]
    },
    {
      "cell_type": "markdown",
      "metadata": {
        "id": "OYa06aXpz02h"
      },
      "source": [
        "# Lets define the Inputs and weights"
      ]
    },
    {
      "cell_type": "markdown",
      "metadata": {
        "id": "lvsqhh5nz02h"
      },
      "source": [
        "With NumPy, we work with arrays. Hence we will need to define our inputs as arrays"
      ]
    },
    {
      "cell_type": "code",
      "execution_count": 2,
      "metadata": {
        "id": "c4YG-_VSz02h"
      },
      "outputs": [],
      "source": [
        "inputs = np.array([45, 25])"
      ]
    },
    {
      "cell_type": "code",
      "execution_count": 3,
      "metadata": {
        "colab": {
          "base_uri": "https://localhost:8080/"
        },
        "id": "gsQI1bf-z02i",
        "outputId": "28c19584-b10c-4b03-93da-3e1980b94fd4"
      },
      "outputs": [
        {
          "output_type": "execute_result",
          "data": {
            "text/plain": [
              "numpy.ndarray"
            ]
          },
          "metadata": {},
          "execution_count": 3
        }
      ],
      "source": [
        "# Check the type of the inputs\n",
        "\n",
        "type(inputs)"
      ]
    },
    {
      "cell_type": "code",
      "execution_count": 4,
      "metadata": {
        "colab": {
          "base_uri": "https://localhost:8080/"
        },
        "id": "F2rHq-PYz02j",
        "outputId": "dae79252-1d1f-4d2a-c9d0-c0ea8e1a41f2"
      },
      "outputs": [
        {
          "output_type": "execute_result",
          "data": {
            "text/plain": [
              "45"
            ]
          },
          "metadata": {},
          "execution_count": 4
        }
      ],
      "source": [
        "# check the value at index position 0\n",
        "inputs[0]"
      ]
    },
    {
      "cell_type": "markdown",
      "metadata": {
        "id": "ENkRsqxvz02j"
      },
      "source": [
        "# Lets define the weights"
      ]
    },
    {
      "cell_type": "code",
      "execution_count": 5,
      "metadata": {
        "id": "7sQNxFC0z02j"
      },
      "outputs": [],
      "source": [
        "# creating the weights as Numpy array\n",
        "\n",
        "weights = np.array([0.7, 0.1])"
      ]
    },
    {
      "cell_type": "code",
      "execution_count": 6,
      "metadata": {
        "colab": {
          "base_uri": "https://localhost:8080/"
        },
        "id": "5BF2cELPz02j",
        "outputId": "fcc8488d-c692-48e1-e723-6e2a7d0c810c"
      },
      "outputs": [
        {
          "output_type": "execute_result",
          "data": {
            "text/plain": [
              "0.7"
            ]
          },
          "metadata": {},
          "execution_count": 6
        }
      ],
      "source": [
        "# Check the value at index 0\n",
        "\n",
        "weights[0]"
      ]
    },
    {
      "cell_type": "markdown",
      "metadata": {
        "id": "qlSoqjHuz02j"
      },
      "source": [
        "# Create the Sum Function\n"
      ]
    },
    {
      "cell_type": "markdown",
      "metadata": {
        "id": "sEhplD6cz02j"
      },
      "source": [
        "The dot function is called the dot product from linear algebra. If you are dealing with a huge dataset, The processing difference between the for loop used in the last notebook and this dot product will significantly be different."
      ]
    },
    {
      "cell_type": "code",
      "execution_count": 7,
      "metadata": {
        "id": "ZTbwhc9Dz02j"
      },
      "outputs": [],
      "source": [
        "def sum_func(inputs, weights):\n",
        "    return inputs.dot(weights)\n",
        ""
      ]
    },
    {
      "cell_type": "code",
      "execution_count": 8,
      "metadata": {
        "colab": {
          "base_uri": "https://localhost:8080/"
        },
        "id": "-xs7R_fOz02k",
        "outputId": "20b19a72-7e6c-4f66-c0da-01f5c184fcfa"
      },
      "outputs": [
        {
          "output_type": "execute_result",
          "data": {
            "text/plain": [
              "34.0"
            ]
          },
          "metadata": {},
          "execution_count": 8
        }
      ],
      "source": [
        "# for weights = [0.7, 0.1]\n",
        "\n",
        "s_prob1 = sum_func(inputs, weights)\n",
        "s_prob1"
      ]
    },
    {
      "cell_type": "markdown",
      "metadata": {
        "id": "jgDC43DWz02k"
      },
      "source": [
        "# Create Step function"
      ]
    },
    {
      "cell_type": "code",
      "execution_count": 9,
      "metadata": {
        "id": "tshfdhr-z02k"
      },
      "outputs": [],
      "source": [
        "def step_function(sum_func):\n",
        "  if (sum_func >= 1):\n",
        "    print(f'The Sum Function is greater than or equal to 1')\n",
        "    return 1\n",
        "  else:\n",
        "        print(f'The Sum Function is NOT greater')\n",
        "        return 0"
      ]
    },
    {
      "cell_type": "markdown",
      "metadata": {
        "id": "PPG_1VF7z02k"
      },
      "source": [
        "# Result"
      ]
    },
    {
      "cell_type": "code",
      "execution_count": 10,
      "metadata": {
        "colab": {
          "base_uri": "https://localhost:8080/"
        },
        "id": "J_F2wynSz02k",
        "outputId": "f4820162-4659-4968-841d-45602a3c4d58"
      },
      "outputs": [
        {
          "output_type": "stream",
          "name": "stdout",
          "text": [
            "The Sum Function is greater than or equal to 1\n"
          ]
        },
        {
          "output_type": "execute_result",
          "data": {
            "text/plain": [
              "1"
            ]
          },
          "metadata": {},
          "execution_count": 10
        }
      ],
      "source": [
        "step_function(s_prob1 )"
      ]
    },
    {
      "cell_type": "markdown",
      "metadata": {
        "id": "doQPOofMz02k"
      },
      "source": [
        " ## If the is weights = [- 0.7, 0.1]"
      ]
    },
    {
      "cell_type": "code",
      "execution_count": 11,
      "metadata": {
        "id": "IGlzMEgsz02k"
      },
      "outputs": [],
      "source": [
        "weights = [-0.7, 0.1]"
      ]
    },
    {
      "cell_type": "code",
      "execution_count": 12,
      "metadata": {
        "colab": {
          "base_uri": "https://localhost:8080/"
        },
        "id": "oYJmMr0ez02k",
        "outputId": "dc797300-2174-40fc-f095-62b5a1c0a07e"
      },
      "outputs": [
        {
          "output_type": "execute_result",
          "data": {
            "text/plain": [
              "-29.0"
            ]
          },
          "metadata": {},
          "execution_count": 12
        }
      ],
      "source": [
        "# for weights = [- 0.7, 0.1]\n",
        "\n",
        "s_prob2 = sum_func(inputs, weights)\n",
        "\n",
        "round(s_prob2, 2)  #round to 2 decimal places"
      ]
    },
    {
      "cell_type": "markdown",
      "metadata": {
        "id": "AvYFX96Xz02l"
      },
      "source": [
        "### Result"
      ]
    },
    {
      "cell_type": "code",
      "execution_count": 13,
      "metadata": {
        "colab": {
          "base_uri": "https://localhost:8080/"
        },
        "id": "QFYMwEFzz02l",
        "outputId": "361311f0-03a3-4198-d4a5-6b81d1004ae1"
      },
      "outputs": [
        {
          "output_type": "stream",
          "name": "stdout",
          "text": [
            "The Sum Function is NOT greater\n"
          ]
        },
        {
          "output_type": "execute_result",
          "data": {
            "text/plain": [
              "0"
            ]
          },
          "metadata": {},
          "execution_count": 13
        }
      ],
      "source": [
        "step_function(s_prob2 )"
      ]
    },
    {
      "cell_type": "markdown",
      "source": [
        "\n",
        "\n",
        "---\n",
        "\n",
        "\n",
        "# **Perceptron and Operator Example**\n"
      ],
      "metadata": {
        "id": "8QAjFQOK2Gea"
      }
    },
    {
      "cell_type": "markdown",
      "source": [
        "# Define \"Inputs, outputs and weights\" as Numpy arrays"
      ],
      "metadata": {
        "id": "-aOKGIhu3v24"
      }
    },
    {
      "cell_type": "code",
      "source": [
        "# Creating input values as a matrix not as a vector\n",
        "inputs = np.array([[0,0], [0,1], [1,0], [1,1]])"
      ],
      "metadata": {
        "id": "u3BFcyVb3cvk"
      },
      "execution_count": 14,
      "outputs": []
    },
    {
      "cell_type": "code",
      "source": [
        "# Chcking the shape of the inputs\n",
        "\n",
        "inputs.shape"
      ],
      "metadata": {
        "colab": {
          "base_uri": "https://localhost:8080/"
        },
        "id": "_IQtNPeO380d",
        "outputId": "ae7f5280-66fc-4362-c0e9-7532c197ea1c"
      },
      "execution_count": 15,
      "outputs": [
        {
          "output_type": "execute_result",
          "data": {
            "text/plain": [
              "(4, 2)"
            ]
          },
          "metadata": {},
          "execution_count": 15
        }
      ]
    },
    {
      "cell_type": "markdown",
      "source": [
        "# Outputs"
      ],
      "metadata": {
        "id": "GDFuwpCr4DMG"
      }
    },
    {
      "cell_type": "code",
      "source": [
        "outputs = np.array([0, 0, 0, 1])"
      ],
      "metadata": {
        "id": "Lqj9Uvzq4Fa7"
      },
      "execution_count": 16,
      "outputs": []
    },
    {
      "cell_type": "code",
      "source": [
        "#Checking the shape of the outputs\n",
        "\n",
        "outputs.shape"
      ],
      "metadata": {
        "colab": {
          "base_uri": "https://localhost:8080/"
        },
        "id": "PTADK8Tj4KlG",
        "outputId": "ef73013f-9aba-4f4d-901c-f7770bb213ef"
      },
      "execution_count": 17,
      "outputs": [
        {
          "output_type": "execute_result",
          "data": {
            "text/plain": [
              "(4,)"
            ]
          },
          "metadata": {},
          "execution_count": 17
        }
      ]
    },
    {
      "cell_type": "markdown",
      "source": [
        "# Weights"
      ],
      "metadata": {
        "id": "S1SVCI8q4P8a"
      }
    },
    {
      "cell_type": "code",
      "source": [
        "# one weight for x1 and one for x2\n",
        "weights = np.array([0.0, 0.0])"
      ],
      "metadata": {
        "id": "bUCM2d2q4PJA"
      },
      "execution_count": 18,
      "outputs": []
    },
    {
      "cell_type": "markdown",
      "source": [
        "# Learning Rate"
      ],
      "metadata": {
        "id": "vrK7DMye4X0i"
      }
    },
    {
      "cell_type": "code",
      "source": [
        "learning_rate = 0.1"
      ],
      "metadata": {
        "id": "B1q8PEL14Yn-"
      },
      "execution_count": 19,
      "outputs": []
    },
    {
      "cell_type": "markdown",
      "source": [
        "# Step function"
      ],
      "metadata": {
        "id": "JEY_xyyB41IC"
      }
    },
    {
      "cell_type": "code",
      "source": [
        "# This is our Activation function\n",
        "\n",
        "def step_function(sum):\n",
        "  if (sum >= 1):\n",
        "    #print(f'The Sum of Weights is Greater or equal to 1')\n",
        "    return 1\n",
        "  else:\n",
        "        #print(f'The Sum of Weights is NOT > or = to 1')\n",
        "        return 0"
      ],
      "metadata": {
        "id": "YasXjL5v44kM"
      },
      "execution_count": 20,
      "outputs": []
    },
    {
      "cell_type": "markdown",
      "source": [
        "# Process Output"
      ],
      "metadata": {
        "id": "CKfD384Q5Cyo"
      }
    },
    {
      "cell_type": "markdown",
      "source": [
        "We define a function that allows us to calculate/ process the output. The function accepts an instance of our data, then calculate the sum function using Numpy. Finally, we check the output by passing it through the \"Step Function.\""
      ],
      "metadata": {
        "id": "sctc5Tli5Jbv"
      }
    },
    {
      "cell_type": "code",
      "source": [
        "def cal_output(instance):\n",
        "  sum_func = instance.dot(weights)\n",
        "  return step_function(sum_func)"
      ],
      "metadata": {
        "id": "RHSfScMl5Fms"
      },
      "execution_count": 21,
      "outputs": []
    },
    {
      "cell_type": "markdown",
      "source": [
        "We pass it as alist in a numpy array ..."
      ],
      "metadata": {
        "id": "hTARmZGZ5Rsc"
      }
    },
    {
      "cell_type": "code",
      "source": [
        "cal_output(np.array([[1,1]]))"
      ],
      "metadata": {
        "colab": {
          "base_uri": "https://localhost:8080/"
        },
        "id": "BPGkqjzj5TQ-",
        "outputId": "dfdc10f7-3d8b-4ebe-bf75-c340d73849f7"
      },
      "execution_count": 22,
      "outputs": [
        {
          "output_type": "execute_result",
          "data": {
            "text/plain": [
              "0"
            ]
          },
          "metadata": {},
          "execution_count": 22
        }
      ]
    },
    {
      "cell_type": "markdown",
      "source": [
        "# Train"
      ],
      "metadata": {
        "id": "LVZCOZcY5ZaA"
      }
    },
    {
      "cell_type": "code",
      "source": [
        "# Check the number of outputs\n",
        "\n",
        "len(outputs)"
      ],
      "metadata": {
        "colab": {
          "base_uri": "https://localhost:8080/"
        },
        "id": "RyA1oXxX5aBI",
        "outputId": "e9e806a2-4841-4bc7-c166-545d40362393"
      },
      "execution_count": 23,
      "outputs": [
        {
          "output_type": "execute_result",
          "data": {
            "text/plain": [
              "4"
            ]
          },
          "metadata": {},
          "execution_count": 23
        }
      ]
    },
    {
      "cell_type": "code",
      "source": [
        "# Checking the index of the input at postion 3 ..\n",
        "# this is the last inpute value\n",
        "inputs[3]"
      ],
      "metadata": {
        "colab": {
          "base_uri": "https://localhost:8080/"
        },
        "id": "5YhLk8Xf5dpv",
        "outputId": "1d7ef105-6baa-4cbd-b45b-b669adf2d832"
      },
      "execution_count": 24,
      "outputs": [
        {
          "output_type": "execute_result",
          "data": {
            "text/plain": [
              "array([1, 1])"
            ]
          },
          "metadata": {},
          "execution_count": 24
        }
      ]
    },
    {
      "cell_type": "code",
      "source": [
        "inputs"
      ],
      "metadata": {
        "colab": {
          "base_uri": "https://localhost:8080/"
        },
        "id": "IT8065jk5hh8",
        "outputId": "876a5fc4-a9a9-4014-c3d7-8bbe2aa6185e"
      },
      "execution_count": 25,
      "outputs": [
        {
          "output_type": "execute_result",
          "data": {
            "text/plain": [
              "array([[0, 0],\n",
              "       [0, 1],\n",
              "       [1, 0],\n",
              "       [1, 1]])"
            ]
          },
          "metadata": {},
          "execution_count": 25
        }
      ]
    },
    {
      "cell_type": "markdown",
      "source": [
        "<b>Note that:</b> usually, we will need to define the number of epochs, because we will never really get a value of zero when dealing with real-world data. However, for this small data, we will run the loop till we obtain zero error"
      ],
      "metadata": {
        "id": "XH6-LUcQ5k94"
      }
    },
    {
      "cell_type": "code",
      "source": [
        "def train():\n",
        "    #\n",
        "    total_error_value = 1\n",
        "    # While the total_error_value is not equal to zero. we are asumming that at the start of running our network there will be no zero\n",
        "    while (total_error_value != 0):\n",
        "        #making the total_error 0 so we can do other calculations\n",
        "        total_error_value = 0\n",
        "        #Looping into each row of the dataset (remember indexing in python starts at zero hence 0-3 which are 4 values)\n",
        "        for i in range(len(outputs)):\n",
        "            #Calculating predictions\n",
        "            prediction = cal_output(inputs[i])\n",
        "            # Calculating the absolute value of the error\n",
        "            error = abs(outputs[i] - prediction)\n",
        "            #Updating the error\n",
        "            total_error_value  += error\n",
        "\n",
        "            if error > 0:\n",
        "                for j in range(len(weights)):\n",
        "                    #updating the weights for x1 and x2\n",
        "                    weights[j] = weights[j] + (learning_rate * inputs[i][j] * error)\n",
        "                    print('Weight updated to: ' + str(weights[j]))\n",
        "        print('Total error Value: ' + str(total_error_value))"
      ],
      "metadata": {
        "id": "3hRElvPH5luu"
      },
      "execution_count": 26,
      "outputs": []
    },
    {
      "cell_type": "code",
      "source": [
        "train()"
      ],
      "metadata": {
        "colab": {
          "base_uri": "https://localhost:8080/"
        },
        "id": "ud5kWl1G5rJq",
        "outputId": "72a95578-7607-4e95-fc4a-c8bbd082c0a3"
      },
      "execution_count": 27,
      "outputs": [
        {
          "output_type": "stream",
          "name": "stdout",
          "text": [
            "Weight updated to: 0.1\n",
            "Weight updated to: 0.1\n",
            "Total error Value: 1\n",
            "Weight updated to: 0.2\n",
            "Weight updated to: 0.2\n",
            "Total error Value: 1\n",
            "Weight updated to: 0.30000000000000004\n",
            "Weight updated to: 0.30000000000000004\n",
            "Total error Value: 1\n",
            "Weight updated to: 0.4\n",
            "Weight updated to: 0.4\n",
            "Total error Value: 1\n",
            "Weight updated to: 0.5\n",
            "Weight updated to: 0.5\n",
            "Total error Value: 1\n",
            "Total error Value: 0\n"
          ]
        }
      ]
    },
    {
      "cell_type": "markdown",
      "source": [
        "# Classification"
      ],
      "metadata": {
        "id": "NZgcaRy352gs"
      }
    },
    {
      "cell_type": "markdown",
      "source": [],
      "metadata": {
        "id": "ldo1Myac5wCO"
      }
    },
    {
      "cell_type": "code",
      "source": [
        "# Now we have the final weights that will be used to classify new instances of the data after training.\n",
        "\n",
        "weights"
      ],
      "metadata": {
        "colab": {
          "base_uri": "https://localhost:8080/"
        },
        "id": "LdlC7fgl58I6",
        "outputId": "a72d9161-0983-4fc4-ba4e-9b557b270559"
      },
      "execution_count": 29,
      "outputs": [
        {
          "output_type": "execute_result",
          "data": {
            "text/plain": [
              "array([0.5, 0.5])"
            ]
          },
          "metadata": {},
          "execution_count": 29
        }
      ]
    },
    {
      "cell_type": "code",
      "source": [
        "cal_output(np.array([0,0]))"
      ],
      "metadata": {
        "colab": {
          "base_uri": "https://localhost:8080/"
        },
        "id": "kacWNm9I-1pk",
        "outputId": "502f7e1e-fccf-486a-c2a2-9f798d30df99"
      },
      "execution_count": 31,
      "outputs": [
        {
          "output_type": "execute_result",
          "data": {
            "text/plain": [
              "0"
            ]
          },
          "metadata": {},
          "execution_count": 31
        }
      ]
    },
    {
      "cell_type": "code",
      "source": [
        "cal_output(np.array([0,1]))"
      ],
      "metadata": {
        "colab": {
          "base_uri": "https://localhost:8080/"
        },
        "id": "3B2hv8AV-8O9",
        "outputId": "2b0bcaeb-2018-4d3a-f6b7-01e9be1ef088"
      },
      "execution_count": 32,
      "outputs": [
        {
          "output_type": "execute_result",
          "data": {
            "text/plain": [
              "0"
            ]
          },
          "metadata": {},
          "execution_count": 32
        }
      ]
    },
    {
      "cell_type": "code",
      "source": [
        "cal_output(np.array([1,0]))"
      ],
      "metadata": {
        "colab": {
          "base_uri": "https://localhost:8080/"
        },
        "id": "l7R8cMrL--RV",
        "outputId": "783fe343-b4d2-4dbb-f982-93e6cc65d754"
      },
      "execution_count": 33,
      "outputs": [
        {
          "output_type": "execute_result",
          "data": {
            "text/plain": [
              "0"
            ]
          },
          "metadata": {},
          "execution_count": 33
        }
      ]
    },
    {
      "cell_type": "code",
      "source": [
        "cal_output(np.array([1,1]))"
      ],
      "metadata": {
        "colab": {
          "base_uri": "https://localhost:8080/"
        },
        "id": "YKfhEXMm-_2P",
        "outputId": "96fb7175-ebb6-4264-b0c2-143fe48fee52"
      },
      "execution_count": 34,
      "outputs": [
        {
          "output_type": "execute_result",
          "data": {
            "text/plain": [
              "1"
            ]
          },
          "metadata": {},
          "execution_count": 34
        }
      ]
    }
  ],
  "metadata": {
    "kernelspec": {
      "display_name": "Python 3",
      "language": "python",
      "name": "python3"
    },
    "language_info": {
      "codemirror_mode": {
        "name": "ipython",
        "version": 3
      },
      "file_extension": ".py",
      "mimetype": "text/x-python",
      "name": "python",
      "nbconvert_exporter": "python",
      "pygments_lexer": "ipython3",
      "version": "3.7.6"
    },
    "colab": {
      "provenance": [],
      "toc_visible": true,
      "include_colab_link": true
    }
  },
  "nbformat": 4,
  "nbformat_minor": 0
}